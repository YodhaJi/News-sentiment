{
  "cells": [
    {
      "cell_type": "code",
      "execution_count": null,
      "metadata": {
        "colab": {
          "base_uri": "https://localhost:8080/"
        },
        "id": "67cOXmLwlEbs",
        "outputId": "3b834866-aba4-4e1f-fb7a-1ad08bc6a87b"
      },
      "outputs": [
        {
          "name": "stderr",
          "output_type": "stream",
          "text": [
            "[nltk_data] Downloading package punkt to /root/nltk_data...\n",
            "[nltk_data]   Unzipping tokenizers/punkt.zip.\n",
            "[nltk_data] Downloading package stopwords to /root/nltk_data...\n",
            "[nltk_data]   Unzipping corpora/stopwords.zip.\n"
          ]
        },
        {
          "data": {
            "text/plain": [
              "True"
            ]
          },
          "execution_count": 4,
          "metadata": {},
          "output_type": "execute_result"
        }
      ],
      "source": [
        "# import pandas as pd\n",
        "# import nltk\n",
        "# import re\n",
        "# nltk.download('punkt')\n",
        "# nltk.download('stopwords')"
      ]
    },
    {
      "cell_type": "code",
      "execution_count": null,
      "metadata": {
        "id": "gPnOqocVzhv4"
      },
      "outputs": [],
      "source": [
        "from nltk.corpus import stopwords\n",
        "from nltk.stem import PorterStemmer"
      ]
    },
    {
      "cell_type": "code",
      "execution_count": null,
      "metadata": {
        "id": "NkojuLW8yegu"
      },
      "outputs": [],
      "source": [
        "df = pd.read_csv(\"/content/drive/MyDrive/Colab Notebooks/Projects/News/Sentiment_dataset.csv\")"
      ]
    },
    {
      "cell_type": "code",
      "execution_count": null,
      "metadata": {
        "id": "u20RrIS7y0CQ"
      },
      "outputs": [],
      "source": [
        "X = df[\"text\"]\n",
        "y = df[\"sentiment\"].values\n",
        "y = y.reshape(-1,1)"
      ]
    },
    {
      "cell_type": "code",
      "execution_count": null,
      "metadata": {
        "id": "sQzT9jZ9y-y4"
      },
      "outputs": [],
      "source": [
        "X = X.apply(nltk.word_tokenize)"
      ]
    },
    {
      "cell_type": "code",
      "execution_count": null,
      "metadata": {
        "id": "vCt8K7Ml0TJI"
      },
      "outputs": [],
      "source": [
        "def removing_stopwords(x):\n",
        "  return \" \".join([i for i in x if i not in stopwords.words('english')])"
      ]
    },
    {
      "cell_type": "code",
      "execution_count": null,
      "metadata": {
        "colab": {
          "base_uri": "https://localhost:8080/"
        },
        "id": "ETmSgiat0Jue",
        "outputId": "1e58c7c9-4bfe-45d9-83bf-ed9913e66bbd"
      },
      "outputs": [
        {
          "data": {
            "text/plain": [
              "0      Billionaire investor Shark Tank star Mark Cuba...\n",
              "1      Attorney Jarrett Adams recently helped overtur...\n",
              "2      The Amazon Rainforest well known across world ...\n",
              "3      Newark police : No officer fired single shot 2...\n",
              "4      I 1970 døde det 560 mennesker den norske trafi...\n",
              "                             ...                        \n",
              "843    Frightening details emerged toilet block attac...\n",
              "844    interview Johannesburg — 360,000 adolescents p...\n",
              "845    A violent attack southern Israeli port city Ei...\n",
              "846    It 's 17-year-old boy , frightened wear kippa ...\n",
              "847    HONG KONG ( AFP ) - Five people killed 32 inju...\n",
              "Name: text, Length: 848, dtype: object"
            ]
          },
          "execution_count": 10,
          "metadata": {},
          "output_type": "execute_result"
        }
      ],
      "source": [
        "X = X.apply(removing_stopwords)\n",
        "X"
      ]
    },
    {
      "cell_type": "code",
      "execution_count": null,
      "metadata": {
        "id": "OTeydAlx0ruT"
      },
      "outputs": [],
      "source": [
        "stemmer = PorterStemmer()\n",
        "def stemming(x):\n",
        "  return \" \".join([stemmer.stem(i) for i in x.split()])"
      ]
    },
    {
      "cell_type": "code",
      "execution_count": null,
      "metadata": {
        "colab": {
          "base_uri": "https://localhost:8080/"
        },
        "id": "9eJPw8FYBq66",
        "outputId": "60f43906-7838-4bec-f287-c61159843676"
      },
      "outputs": [
        {
          "data": {
            "text/plain": [
              "0      billionair investor shark tank star mark cuban...\n",
              "1      attorney jarrett adam recent help overturn inn...\n",
              "2      the amazon rainforest well known across world ...\n",
              "3      newark polic : no offic fire singl shot 2020 ,...\n",
              "4      i 1970 døde det 560 mennesk den norsk trafikke...\n",
              "                             ...                        \n",
              "843    frighten detail emerg toilet block attack two ...\n",
              "844    interview johannesburg — 360,000 adolesc proje...\n",
              "845    a violent attack southern isra port citi eilat...\n",
              "846    it 's 17-year-old boy , frighten wear kippa ( ...\n",
              "847    hong kong ( afp ) - five peopl kill 32 injur c...\n",
              "Name: text, Length: 848, dtype: object"
            ]
          },
          "execution_count": 12,
          "metadata": {},
          "output_type": "execute_result"
        }
      ],
      "source": [
        "X = X.apply(stemming)\n",
        "X"
      ]
    },
    {
      "cell_type": "code",
      "execution_count": null,
      "metadata": {
        "id": "fbKgksASSD_4"
      },
      "outputs": [],
      "source": [
        "def preprocessing(x):\n",
        "  return re.sub(r\"\\s+\",\" \",re.sub(r\"\\W\",\" \",x))"
      ]
    },
    {
      "cell_type": "code",
      "execution_count": null,
      "metadata": {
        "colab": {
          "base_uri": "https://localhost:8080/"
        },
        "id": "-3AE7lPhB2Eh",
        "outputId": "f3aa36f2-987b-4fc4-ba7d-ca6057f9c8bf"
      },
      "outputs": [
        {
          "data": {
            "text/plain": [
              "0      billionair investor shark tank star mark cuban...\n",
              "1      attorney jarrett adam recent help overturn inn...\n",
              "2      the amazon rainforest well known across world ...\n",
              "3      newark polic no offic fire singl shot 2020 tha...\n",
              "4      i 1970 døde det 560 mennesk den norsk trafikke...\n",
              "                             ...                        \n",
              "843    frighten detail emerg toilet block attack two ...\n",
              "844    interview johannesburg 360 000 adolesc project...\n",
              "845    a violent attack southern isra port citi eilat...\n",
              "846    it s 17 year old boy frighten wear kippa relig...\n",
              "847    hong kong afp five peopl kill 32 injur coach c...\n",
              "Name: text, Length: 848, dtype: object"
            ]
          },
          "execution_count": 14,
          "metadata": {},
          "output_type": "execute_result"
        }
      ],
      "source": [
        "X = X.apply(preprocessing)\n",
        "X"
      ]
    },
    {
      "cell_type": "code",
      "execution_count": null,
      "metadata": {
        "id": "DGBdaTeqe_va"
      },
      "outputs": [],
      "source": [
        "word_count = {}\n",
        "for words in X:\n",
        "  for word in words.split():\n",
        "    if word not in word_count:\n",
        "      word_count[word]=1\n",
        "    else:\n",
        "      word_count[word]=word_count[word]+1\n"
      ]
    },
    {
      "cell_type": "code",
      "execution_count": null,
      "metadata": {
        "id": "s6zXHAZaf2OC"
      },
      "outputs": [],
      "source": [
        "freq_words = [key for key, value in word_count.items() if value>1]"
      ]
    },
    {
      "cell_type": "code",
      "execution_count": null,
      "metadata": {
        "id": "VMMJ1Rhtggcs"
      },
      "outputs": [],
      "source": [
        "def freq_words_filter(x):\n",
        "  return \" \".join([i for i in x.split() if i in freq_words])"
      ]
    },
    {
      "cell_type": "code",
      "execution_count": null,
      "metadata": {
        "colab": {
          "base_uri": "https://localhost:8080/"
        },
        "id": "Nj8AlpT0mlUj",
        "outputId": "fc671013-c0ca-41c5-ff67-b1cae3ae9fa3"
      },
      "outputs": [
        {
          "data": {
            "text/plain": [
              "0      billionair investor shark tank star mark cuban...\n",
              "1      attorney jarrett adam recent help overturn inn...\n",
              "2      the amazon rainforest well known across world ...\n",
              "3      newark polic no offic fire singl shot 2020 tha...\n",
              "4      i 1970 det 560 den norsk trafikken og direktør...\n",
              "                             ...                        \n",
              "843    frighten detail emerg toilet block attack two ...\n",
              "844    interview johannesburg 360 000 adolesc project...\n",
              "845    a violent attack southern isra port citi eilat...\n",
              "846    it s 17 year old boy frighten wear religi stre...\n",
              "847    hong kong afp five peopl kill 32 injur coach c...\n",
              "Name: text, Length: 848, dtype: object"
            ]
          },
          "execution_count": 18,
          "metadata": {},
          "output_type": "execute_result"
        }
      ],
      "source": [
        "X = X.apply(freq_words_filter)\n",
        "X"
      ]
    },
    {
      "cell_type": "code",
      "execution_count": null,
      "metadata": {
        "id": "flVuMp5tJMXA"
      },
      "outputs": [],
      "source": [
        "from re import T\n",
        "from sklearn.feature_extraction.text import TfidfVectorizer\n",
        "tfidf_vectorizer = TfidfVectorizer()"
      ]
    },
    {
      "cell_type": "code",
      "execution_count": null,
      "metadata": {
        "colab": {
          "base_uri": "https://localhost:8080/"
        },
        "id": "ndSs8hiaDlV5",
        "outputId": "bff093a5-85fd-4755-c62d-7a2ba46d48f8"
      },
      "outputs": [
        {
          "data": {
            "text/plain": [
              "0      billionair investor shark tank star mark cuban...\n",
              "1      attorney jarrett adam recent help overturn inn...\n",
              "2      the amazon rainforest well known across world ...\n",
              "3      newark polic no offic fire singl shot 2020 tha...\n",
              "4      i 1970 det 560 den norsk trafikken og direktør...\n",
              "                             ...                        \n",
              "843    frighten detail emerg toilet block attack two ...\n",
              "844    interview johannesburg 360 000 adolesc project...\n",
              "845    a violent attack southern isra port citi eilat...\n",
              "846    it s 17 year old boy frighten wear religi stre...\n",
              "847    hong kong afp five peopl kill 32 injur coach c...\n",
              "Name: text, Length: 848, dtype: object"
            ]
          },
          "execution_count": 20,
          "metadata": {},
          "output_type": "execute_result"
        }
      ],
      "source": [
        "X"
      ]
    },
    {
      "cell_type": "code",
      "execution_count": null,
      "metadata": {
        "id": "6JgAn7vbJbGu"
      },
      "outputs": [],
      "source": [
        "X = tfidf_vectorizer.fit_transform(X.values)\n",
        "X = X.toarray()"
      ]
    },
    {
      "cell_type": "code",
      "execution_count": null,
      "metadata": {
        "colab": {
          "base_uri": "https://localhost:8080/"
        },
        "id": "y_2fR7mIOkug",
        "outputId": "7397683b-be71-48c5-ac3f-7f0f98202cb9"
      },
      "outputs": [
        {
          "data": {
            "text/plain": [
              "171"
            ]
          },
          "execution_count": 22,
          "metadata": {},
          "output_type": "execute_result"
        }
      ],
      "source": [
        "len([i for i in X[10] if i>0])"
      ]
    },
    {
      "cell_type": "code",
      "execution_count": null,
      "metadata": {
        "id": "Fq73VtOFSUcM"
      },
      "outputs": [],
      "source": [
        "from sklearn.model_selection import train_test_split\n",
        "X_train, X_test,y_train,y_test = train_test_split(X,y,test_size = 0.2)"
      ]
    },
    {
      "cell_type": "code",
      "execution_count": null,
      "metadata": {
        "id": "wmWPTm8YGzBZ"
      },
      "outputs": [],
      "source": [
        "# from imblearn.over_sampling import SMOTE\n",
        "# smote = SMOTE(sampling_strategy ='auto',random_state=0)\n",
        "# X_train,y_train = smote.fit_resample(X_train,y_train)\n",
        "\n",
        "# smote_test = SMOTE(sampling_strategy ='auto',random_state=0)\n",
        "# X_test,y_test = smote_test.fit_resample(X_test,y_test)"
      ]
    },
    {
      "cell_type": "code",
      "execution_count": null,
      "metadata": {
        "id": "IqTI4kzeKQu2"
      },
      "outputs": [],
      "source": [
        "from tensorflow.keras.models import Sequential\n",
        "from tensorflow.keras.layers import Dense, Dropout\n",
        "model = Sequential()\n",
        "model.add(Dense(len(X[0]), activation='relu'))\n",
        "model.add(Dense(8000, activation='relu'))\n",
        "model.add(Dropout(0.5))\n",
        "model.add(Dense(8000, activation='relu'))\n",
        "\n",
        "\n",
        "\n",
        "\n",
        "model.add(Dense(1, activation='sigmoid'))\n",
        "\n",
        "model.compile(optimizer='adam',loss='binary_crossentropy')"
      ]
    },
    {
      "cell_type": "code",
      "execution_count": null,
      "metadata": {
        "colab": {
          "base_uri": "https://localhost:8080/"
        },
        "id": "uoJykrLpQxV-",
        "outputId": "9d9a11c6-e141-4462-ce18-c13733499296"
      },
      "outputs": [
        {
          "data": {
            "text/plain": [
              "(848, 12774)"
            ]
          },
          "execution_count": 26,
          "metadata": {},
          "output_type": "execute_result"
        }
      ],
      "source": [
        "X.shape"
      ]
    },
    {
      "cell_type": "code",
      "execution_count": null,
      "metadata": {
        "id": "O6fL9Zp3Qbs0"
      },
      "outputs": [],
      "source": [
        "from tensorflow.keras.callbacks import EarlyStopping\n",
        "early_stopping =EarlyStopping(monitor = 'val_loss', patience = 2)"
      ]
    },
    {
      "cell_type": "code",
      "execution_count": null,
      "metadata": {
        "colab": {
          "base_uri": "https://localhost:8080/"
        },
        "id": "wy25sNZ6Pup3",
        "outputId": "b6232833-cbaf-429a-cd12-11485d93ad2d"
      },
      "outputs": [
        {
          "name": "stdout",
          "output_type": "stream",
          "text": [
            "Epoch 1/10\n",
            "22/22 [==============================] - 202s 9s/step - loss: 0.4439 - val_loss: 0.2758\n",
            "Epoch 2/10\n",
            "22/22 [==============================] - 157s 7s/step - loss: 0.1189 - val_loss: 0.2960\n",
            "Epoch 3/10\n",
            "22/22 [==============================] - 139s 6s/step - loss: 0.0330 - val_loss: 0.7978\n"
          ]
        },
        {
          "data": {
            "text/plain": [
              "<keras.src.callbacks.History at 0x790207a53b50>"
            ]
          },
          "execution_count": 28,
          "metadata": {},
          "output_type": "execute_result"
        }
      ],
      "source": [
        "model.fit(x=X_train,y=y_train,epochs=10,validation_data = (X_test,y_test), callbacks = [early_stopping])"
      ]
    },
    {
      "cell_type": "code",
      "execution_count": null,
      "metadata": {
        "colab": {
          "base_uri": "https://localhost:8080/"
        },
        "id": "9MJ2WVSiV_Fd",
        "outputId": "8d97bbaa-d4e8-49bf-dc08-bed4801c8235"
      },
      "outputs": [
        {
          "name": "stdout",
          "output_type": "stream",
          "text": [
            "6/6 [==============================] - 5s 804ms/step\n"
          ]
        }
      ],
      "source": [
        "pred=model.predict(X_test)"
      ]
    },
    {
      "cell_type": "code",
      "execution_count": null,
      "metadata": {
        "id": "qCvcmW-NWkw6"
      },
      "outputs": [],
      "source": [
        "pred = pred.round()"
      ]
    },
    {
      "cell_type": "code",
      "execution_count": null,
      "metadata": {
        "id": "37sQlZwEYDXm"
      },
      "outputs": [],
      "source": [
        "y_test"
      ]
    },
    {
      "cell_type": "code",
      "execution_count": null,
      "metadata": {
        "colab": {
          "base_uri": "https://localhost:8080/"
        },
        "id": "HINJWJVhWIFR",
        "outputId": "8d7bee74-bf6c-476d-cec3-14b811ccb484"
      },
      "outputs": [
        {
          "name": "stdout",
          "output_type": "stream",
          "text": [
            "[[  5  16]\n",
            " [  0 149]]\n",
            "              precision    recall  f1-score   support\n",
            "\n",
            "         0.0       1.00      0.24      0.38        21\n",
            "         1.0       0.90      1.00      0.95       149\n",
            "\n",
            "    accuracy                           0.91       170\n",
            "   macro avg       0.95      0.62      0.67       170\n",
            "weighted avg       0.92      0.91      0.88       170\n",
            "\n"
          ]
        }
      ],
      "source": [
        "from sklearn.metrics import confusion_matrix, accuracy_score, classification_report\n",
        "print(confusion_matrix(y_test,pred))\n",
        "print(classification_report(y_test,pred))"
      ]
    },
    {
      "cell_type": "code",
      "execution_count": null,
      "metadata": {
        "id": "evugO_b6YKDr"
      },
      "outputs": [],
      "source": []
    },
    {
      "cell_type": "code",
      "execution_count": null,
      "metadata": {
        "id": "WIh-7KKqcQza"
      },
      "outputs": [],
      "source": []
    },
    {
      "cell_type": "code",
      "execution_count": null,
      "metadata": {
        "colab": {
          "base_uri": "https://localhost:8080/"
        },
        "id": "YsRScdlqcqef",
        "outputId": "a2a4202d-4a7b-4a65-ffc0-ff8b93c9ebd6"
      },
      "outputs": [
        {
          "data": {
            "text/plain": [
              "array([[0., 0., 0., ..., 0., 0., 0.]])"
            ]
          },
          "execution_count": 35,
          "metadata": {},
          "output_type": "execute_result"
        }
      ],
      "source": [
        "tfidf_vectorizer.transform([input]).toarray()"
      ]
    },
    {
      "cell_type": "code",
      "execution_count": null,
      "metadata": {
        "colab": {
          "base_uri": "https://localhost:8080/"
        },
        "id": "Ru4sLpGEB6MY",
        "outputId": "959efb66-c171-423f-b2c4-e2a2230d912c"
      },
      "outputs": [
        {
          "name": "stdout",
          "output_type": "stream",
          "text": [
            "1/1 [==============================] - 0s 135ms/step\n"
          ]
        },
        {
          "data": {
            "text/plain": [
              "array([[1.]], dtype=float32)"
            ]
          },
          "execution_count": 36,
          "metadata": {},
          "output_type": "execute_result"
        }
      ],
      "source": []
    },
    {
      "cell_type": "code",
      "execution_count": null,
      "metadata": {
        "colab": {
          "background_save": true
        },
        "id": "EE48Mqksp55t",
        "outputId": "d8d471cd-1cb9-4337-fdd8-1ac29a64a553"
      },
      "outputs": [
        {
          "ename": "NameError",
          "evalue": "name 'joblib' is not defined",
          "output_type": "error",
          "traceback": [
            "\u001b[0;31m---------------------------------------------------------------------------\u001b[0m",
            "\u001b[0;31mNameError\u001b[0m                                 Traceback (most recent call last)",
            "\u001b[0;32m<ipython-input-1-09c3489fb911>\u001b[0m in \u001b[0;36m<cell line: 1>\u001b[0;34m()\u001b[0m\n\u001b[0;32m----> 1\u001b[0;31m \u001b[0mjoblib\u001b[0m\u001b[0;34m.\u001b[0m\u001b[0mdump\u001b[0m\u001b[0;34m(\u001b[0m\u001b[0mmodel\u001b[0m\u001b[0;34m,\u001b[0m\u001b[0;34m'/content/drive/MyDrive/Colab Notebooks/Projects/News/model.h5'\u001b[0m\u001b[0;34m)\u001b[0m\u001b[0;34m\u001b[0m\u001b[0;34m\u001b[0m\u001b[0m\n\u001b[0m",
            "\u001b[0;31mNameError\u001b[0m: name 'joblib' is not defined"
          ]
        }
      ],
      "source": [
        "joblib.dump(model,'/content/drive/MyDrive/Colab Notebooks/Projects/News/model.h5')"
      ]
    }
  ],
  "metadata": {
    "colab": {
      "provenance": []
    },
    "kernelspec": {
      "display_name": "Python 3",
      "name": "python3"
    },
    "language_info": {
      "name": "python"
    }
  },
  "nbformat": 4,
  "nbformat_minor": 0
}